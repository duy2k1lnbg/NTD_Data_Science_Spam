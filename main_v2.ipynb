{
 "cells": [
  {
   "cell_type": "code",
   "execution_count": 3,
   "metadata": {},
   "outputs": [
    {
     "name": "stderr",
     "output_type": "stream",
     "text": [
      "/home/duy/anaconda3/envs/py39/lib/python3.9/site-packages/tqdm/auto.py:21: TqdmWarning: IProgress not found. Please update jupyter and ipywidgets. See https://ipywidgets.readthedocs.io/en/stable/user_install.html\n",
      "  from .autonotebook import tqdm as notebook_tqdm\n"
     ]
    }
   ],
   "source": [
    "import re\n",
    "import torch\n",
    "import numpy as np\n",
    "import pandas as pd\n",
    "from transformers import AutoTokenizer, AutoModelForSequenceClassification, Trainer, TrainingArguments, BertTokenizer, BertForSequenceClassification\n",
    "from sklearn.model_selection import train_test_split\n",
    "from sklearn.metrics import classification_report\n",
    "from vncorenlp import VnCoreNLP\n",
    "import seaborn as sns\n",
    "import matplotlib.pyplot as plt\n",
    "from sklearn.metrics import f1_score, confusion_matrix, accuracy_score, recall_score\n",
    "import pickle"
   ]
  },
  {
   "cell_type": "code",
   "execution_count": 4,
   "metadata": {},
   "outputs": [],
   "source": [
    "labels_task_1 = [\"no-spam\", \"spam\"]\n",
    "labels_task_2 = [\"no-spam\", \"spam-1\", \"spam-2\", \"spam-3\"]\n",
    "\n",
    "def show_predict_result(trainer, test_dataset, y_test, labels):\n",
    "    y_pred_classify = trainer.predict(test_dataset)\n",
    "    y_pred = np.argmax(y_pred_classify.predictions, axis=-1)\n",
    "    cf = confusion_matrix(y_test, y_pred)\n",
    "    df_cm = pd.DataFrame(cf, index = labels, columns = labels)\n",
    "    sns.heatmap(df_cm, annot=True, cmap=\"Greys\",fmt='g', cbar=True, annot_kws={\"size\": 30})\n",
    "    print(\"F1 - micro:\", f1_score(y_test, y_pred, average='micro'))\n",
    "    print(\"F1 - macro:\", f1_score(y_test, y_pred, average='macro'))\n",
    "    print(\"Accuracy:\", accuracy_score(y_test, y_pred))\n",
    "\n",
    "\n",
    "class BuildDataset(torch.utils.data.Dataset):\n",
    "    def __init__(self, encodings, labels):\n",
    "        self.encodings = encodings\n",
    "        self.labels = labels\n",
    "\n",
    "    def __getitem__(self, idx):\n",
    "        item = {key: torch.tensor(val[idx]) for key, val in self.encodings.items()}\n",
    "        item['labels'] = torch.tensor(self.labels[idx])\n",
    "        return item\n",
    "\n",
    "    def __len__(self):\n",
    "        return len(self.labels)"
   ]
  },
  {
   "cell_type": "code",
   "execution_count": 5,
   "metadata": {},
   "outputs": [],
   "source": [
    "train_data = pd.read_csv(\"/home/duy/Documents/NTD_Data_Science_Spam/dataset/train.csv\")\n",
    "test_data = pd.read_csv(\"/home/duy/Documents/NTD_Data_Science_Spam/dataset/test.csv\")\n",
    "dev_data = pd.read_csv('/home/duy/Documents/NTD_Data_Science_Spam/dataset/dev.csv')\n",
    "STOPWORDS_PATH = ('/home/duy/Documents/NTD_Data_Science_Spam/dataset/vietnamese-stopwords-dash.txt')"
   ]
  },
  {
   "cell_type": "code",
   "execution_count": 6,
   "metadata": {},
   "outputs": [],
   "source": [
    "#Load dữ liệu\n",
    "X_train = train_data.iloc[:, 0:2]\n",
    "y_train = train_data.iloc[:, 2:4]\n",
    "\n",
    "X_dev = dev_data.iloc[:, 0:2]\n",
    "y_dev = dev_data.iloc[:, 2:4]\n",
    "\n",
    "X_test = test_data.iloc[:, 0:2]\n",
    "y_test = test_data.iloc[:, 2:4]"
   ]
  },
  {
   "cell_type": "code",
   "execution_count": 7,
   "metadata": {},
   "outputs": [],
   "source": [
    "vncorenlp = VnCoreNLP(\"vncorenlp/VnCoreNLP-1.1.1.jar\", annotators=\"wseg\", max_heap_size='-Xmx500m')"
   ]
  },
  {
   "cell_type": "code",
   "execution_count": 8,
   "metadata": {},
   "outputs": [],
   "source": [
    "with open(STOPWORDS_PATH, \"r\") as ins:\n",
    "    stopwords = []\n",
    "    for line in ins:\n",
    "        dd = line.strip('\\n')\n",
    "        stopwords.append(dd)\n",
    "    stopwords = set(stopwords)"
   ]
  },
  {
   "cell_type": "code",
   "execution_count": 9,
   "metadata": {},
   "outputs": [],
   "source": [
    "def filter_stop_words(train_sentences, stop_words):\n",
    "    new_sent = [word for word in train_sentences.split() if word not in stop_words]\n",
    "    train_sentences = ' '.join(new_sent)\n",
    "        \n",
    "    return train_sentences\n",
    "\n",
    "\n",
    "def deEmojify(text):\n",
    "    regrex_pattern = re.compile(pattern = \"[\"\n",
    "        u\"\\U0001F600-\\U0001F64F\"  # emoticons\n",
    "        u\"\\U0001F300-\\U0001F5FF\"  # symbols & pictographs\n",
    "        u\"\\U0001F680-\\U0001F6FF\"  # transport & map symbols\n",
    "        u\"\\U0001F1E0-\\U0001F1FF\"  # flags (iOS)\n",
    "                           \"]+\", flags = re.UNICODE)\n",
    "    return regrex_pattern.sub(r'',text)\n",
    "\n",
    "\n",
    "def preprocess(text, tokenized=True, lowercased=True):\n",
    "    # text = ViTokenizer.tokenize(text)\n",
    "    # text = ' '.join(vncorenlp.tokenize(text)[0])\n",
    "    text = filter_stop_words(text, stopwords)\n",
    "    text = deEmojify(text)\n",
    "    text = text.lower() if lowercased else text\n",
    "    if tokenized:\n",
    "        pre_text = \"\"\n",
    "        sentences = vncorenlp.tokenize(text)\n",
    "        for sentence in sentences:\n",
    "            pre_text += \" \".join(sentence)\n",
    "        text = pre_text\n",
    "    return text\n",
    "\n",
    "\n",
    "def pre_process_features(X, y1, y2, tokenized=True, lowercased=True):\n",
    "    X = np.array(X)\n",
    "    y1 = np.array(y1)\n",
    "    y2 = np.array(y2)\n",
    "    X = [preprocess(str(p), tokenized=tokenized, lowercased=lowercased) for p in list(X)]\n",
    "    for idx, ele in enumerate(X):\n",
    "        if not ele:\n",
    "            np.delete(X, idx)\n",
    "            np.delete(y1, idx)\n",
    "            np.delete(y2, idx)\n",
    "    return X, y1, y2"
   ]
  },
  {
   "cell_type": "code",
   "execution_count": 10,
   "metadata": {},
   "outputs": [],
   "source": [
    "train_X, train_y, train_y_spam = pre_process_features(X_train['Comment'], y_train['Label'], y_train['SpamLabel'], tokenized=True, lowercased = False)\n",
    "dev_X, dev_y, dev_y_spam = pre_process_features(X_dev['Comment'], y_dev['Label'], y_dev['SpamLabel'], tokenized=True, lowercased = False)\n",
    "test_X, test_y, test_y_spam = pre_process_features(X_test['Comment'], y_test['Label'], y_test['SpamLabel'], tokenized=True, lowercased = False)"
   ]
  },
  {
   "cell_type": "code",
   "execution_count": 11,
   "metadata": {},
   "outputs": [
    {
     "name": "stderr",
     "output_type": "stream",
     "text": [
      "Some weights of the model checkpoint at vinai/phobert-base were not used when initializing RobertaForSequenceClassification: ['lm_head.dense.weight', 'roberta.pooler.dense.bias', 'roberta.pooler.dense.weight', 'lm_head.bias', 'lm_head.layer_norm.weight', 'lm_head.dense.bias', 'lm_head.decoder.bias', 'lm_head.decoder.weight', 'lm_head.layer_norm.bias']\n",
      "- This IS expected if you are initializing RobertaForSequenceClassification from the checkpoint of a model trained on another task or with another architecture (e.g. initializing a BertForSequenceClassification model from a BertForPreTraining model).\n",
      "- This IS NOT expected if you are initializing RobertaForSequenceClassification from the checkpoint of a model that you expect to be exactly identical (initializing a BertForSequenceClassification model from a BertForSequenceClassification model).\n",
      "Some weights of RobertaForSequenceClassification were not initialized from the model checkpoint at vinai/phobert-base and are newly initialized: ['classifier.dense.bias', 'classifier.dense.weight', 'classifier.out_proj.weight', 'classifier.out_proj.bias']\n",
      "You should probably TRAIN this model on a down-stream task to be able to use it for predictions and inference.\n"
     ]
    }
   ],
   "source": [
    "model = AutoModelForSequenceClassification.from_pretrained(\"vinai/phobert-base\", num_labels = 2)\n",
    "tokenizer = AutoTokenizer.from_pretrained(\"vinai/phobert-base\", use_fast=False)"
   ]
  },
  {
   "cell_type": "code",
   "execution_count": 12,
   "metadata": {},
   "outputs": [
    {
     "name": "stderr",
     "output_type": "stream",
     "text": [
      "/home/duy/anaconda3/envs/py39/lib/python3.9/site-packages/torch/cuda/__init__.py:546: UserWarning: Can't initialize NVML\n",
      "  warnings.warn(\"Can't initialize NVML\")\n",
      "/home/duy/transformers/src/transformers/optimization.py:391: FutureWarning: This implementation of AdamW is deprecated and will be removed in a future version. Use the PyTorch implementation torch.optim.AdamW instead, or set `no_deprecation_warning=True` to disable this warning\n",
      "  warnings.warn(\n",
      " 11%|█         | 500/4475 [55:42<7:23:09,  6.69s/it] "
     ]
    },
    {
     "name": "stdout",
     "output_type": "stream",
     "text": [
      "{'loss': 0.4072, 'learning_rate': 5e-05, 'epoch': 0.56}\n"
     ]
    },
    {
     "name": "stderr",
     "output_type": "stream",
     "text": [
      " 22%|██▏       | 1000/4475 [1:53:28<6:44:13,  6.98s/it]"
     ]
    },
    {
     "name": "stdout",
     "output_type": "stream",
     "text": [
      "{'loss': 0.3044, 'learning_rate': 4.3710691823899376e-05, 'epoch': 1.12}\n"
     ]
    },
    {
     "name": "stderr",
     "output_type": "stream",
     "text": [
      " 34%|███▎      | 1500/4475 [2:43:26<5:12:41,  6.31s/it]"
     ]
    },
    {
     "name": "stdout",
     "output_type": "stream",
     "text": [
      "{'loss': 0.2637, 'learning_rate': 3.7421383647798744e-05, 'epoch': 1.68}\n"
     ]
    },
    {
     "name": "stderr",
     "output_type": "stream",
     "text": [
      " 45%|████▍     | 2000/4475 [3:56:13<4:53:49,  7.12s/it]"
     ]
    },
    {
     "name": "stdout",
     "output_type": "stream",
     "text": [
      "{'loss': 0.2355, 'learning_rate': 3.113207547169811e-05, 'epoch': 2.23}\n"
     ]
    },
    {
     "name": "stderr",
     "output_type": "stream",
     "text": [
      " 56%|█████▌    | 2500/4475 [5:06:01<5:15:40,  9.59s/it]"
     ]
    },
    {
     "name": "stdout",
     "output_type": "stream",
     "text": [
      "{'loss': 0.1985, 'learning_rate': 2.4842767295597485e-05, 'epoch': 2.79}\n"
     ]
    },
    {
     "name": "stderr",
     "output_type": "stream",
     "text": [
      " 67%|██████▋   | 3000/4475 [6:05:24<2:40:55,  6.55s/it]"
     ]
    },
    {
     "name": "stdout",
     "output_type": "stream",
     "text": [
      "{'loss': 0.1594, 'learning_rate': 1.8553459119496856e-05, 'epoch': 3.35}\n"
     ]
    },
    {
     "name": "stderr",
     "output_type": "stream",
     "text": [
      " 78%|███████▊  | 3500/4475 [7:01:50<1:47:11,  6.60s/it]"
     ]
    },
    {
     "name": "stdout",
     "output_type": "stream",
     "text": [
      "{'loss': 0.1333, 'learning_rate': 1.2264150943396227e-05, 'epoch': 3.91}\n"
     ]
    },
    {
     "name": "stderr",
     "output_type": "stream",
     "text": [
      " 89%|████████▉ | 4000/4475 [7:57:18<51:18,  6.48s/it]  "
     ]
    },
    {
     "name": "stdout",
     "output_type": "stream",
     "text": [
      "{'loss': 0.1012, 'learning_rate': 5.974842767295598e-06, 'epoch': 4.47}\n"
     ]
    },
    {
     "name": "stderr",
     "output_type": "stream",
     "text": [
      "100%|██████████| 4475/4475 [8:54:29<00:00,  7.17s/it]\n"
     ]
    },
    {
     "name": "stdout",
     "output_type": "stream",
     "text": [
      "{'train_runtime': 32069.5061, 'train_samples_per_second': 2.23, 'train_steps_per_second': 0.14, 'train_loss': 0.21111490942246422, 'epoch': 5.0}\n"
     ]
    }
   ],
   "source": [
    "import os\n",
    "    \n",
    "train_encodings = tokenizer(train_X, truncation=True, padding=True, max_length=100)\n",
    "dev_encodings = tokenizer(dev_X, truncation=True, padding=True, max_length=100)\n",
    "test_encodings = tokenizer(test_X, truncation=True, padding=True, max_length=100)\n",
    "\n",
    "train_dataset = BuildDataset(train_encodings, train_y)\n",
    "dev_dataset = BuildDataset(dev_encodings, dev_y)\n",
    "test_dataset = BuildDataset(test_encodings, test_y)\n",
    "\n",
    "OUTPUT_DIR = os.path.join('/home/duy/Documents/NTD_Data_Science_Spam/dataset', 'phobert', 'task_2')\n",
    "\n",
    "training_args = TrainingArguments(    \n",
    "    output_dir= OUTPUT_DIR,       \n",
    "    num_train_epochs=5,              \n",
    "    per_device_train_batch_size=16,  \n",
    "    per_device_eval_batch_size=16,   \n",
    "    warmup_steps=500,                \n",
    "    weight_decay=0.01,\n",
    "    no_cuda=False,\n",
    "    do_eval=True\n",
    ")\n",
    "\n",
    "trainer = Trainer(\n",
    "    model=model,                         \n",
    "    args=training_args,                  \n",
    "    train_dataset=train_dataset,         \n",
    "    eval_dataset=dev_dataset             \n",
    ")\n",
    "trainer.train()\n",
    "trainer.save_model(OUTPUT_DIR)\n",
    "with open('model.pkl', 'wb') as f:\n",
    "    pickle.dump(trainer.model, f)\n"
   ]
  },
  {
   "cell_type": "code",
   "execution_count": 14,
   "metadata": {},
   "outputs": [
    {
     "name": "stderr",
     "output_type": "stream",
     "text": [
      "293it [11:26,  2.34s/it]                         \n"
     ]
    },
    {
     "name": "stdout",
     "output_type": "stream",
     "text": [
      "F1 - micro: 0.8990941117262204\n",
      "F1 - macro: 0.8708275528611766\n",
      "Accuracy: 0.8990941117262204\n"
     ]
    },
    {
     "data": {
      "image/png": "[encoded data removed]",
      "text/plain": [
       "<Figure size 640x480 with 2 Axes>"
      ]
     },
     "metadata": {},
     "output_type": "display_data"
    }
   ],
   "source": [
    "show_predict_result(trainer, test_dataset, test_y, labels_task_1)"
   ]
  },
  {
   "attachments": {},
   "cell_type": "markdown",
   "metadata": {},
   "source": [
    " F1 - micro là tổng quan của F1-score cho tất cả các lớp\n",
    " F1 - macro là trung bình của F1-score của các lớp riêng lẻ. \n",
    " Accuracy là tỷ lệ dự đoán chính xác trên toàn bộ tập dữ liệu kiểm tra. Kết quả này cho thấy mô hình có hiệu suất tương đối tốt trong việc dự đoán nhãn trên tập dữ liệu kiểm tra."
   ]
  }
 ],
 "metadata": {
  "kernelspec": {
   "display_name": "py39",
   "language": "python",
   "name": "python3"
  },
  "language_info": {
   "codemirror_mode": {
    "name": "ipython",
    "version": 3
   },
   "file_extension": ".py",
   "mimetype": "text/x-python",
   "name": "python",
   "nbconvert_exporter": "python",
   "pygments_lexer": "ipython3",
   "version": "3.9.16"
  },
  "orig_nbformat": 4
 },
 "nbformat": 4,
 "nbformat_minor": 2
}
